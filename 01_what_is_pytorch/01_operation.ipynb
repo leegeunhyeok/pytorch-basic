{
 "nbformat": 4,
 "nbformat_minor": 2,
 "metadata": {
  "language_info": {
   "name": "python",
   "codemirror_mode": {
    "name": "ipython",
    "version": 3
   }
  },
  "orig_nbformat": 2,
  "file_extension": ".py",
  "mimetype": "text/x-python",
  "name": "python",
  "npconvert_exporter": "python",
  "pygments_lexer": "ipython3",
  "version": 3
 },
 "cells": [
  {
   "cell_type": "code",
   "execution_count": 1,
   "metadata": {},
   "outputs": [],
   "source": [
    "import torch\n",
    "import numpy as np"
   ]
  },
  {
   "cell_type": "code",
   "execution_count": 2,
   "metadata": {},
   "outputs": [
    {
     "data": {
      "text/plain": "tensor([[0.3805, 0.6941, 0.0022],\n        [0.5781, 0.5232, 0.0572],\n        [0.2112, 0.6530, 0.9487],\n        [0.2669, 0.2099, 0.3720],\n        [0.2743, 0.1473, 0.4253]])"
     },
     "execution_count": 2,
     "metadata": {},
     "output_type": "execute_result"
    }
   ],
   "source": [
    "x = torch.rand(5, 3)\n",
    "x"
   ]
  },
  {
   "cell_type": "code",
   "execution_count": 3,
   "metadata": {},
   "outputs": [
    {
     "data": {
      "text/plain": "tensor([[0.9228, 0.8074, 0.2215],\n        [0.5803, 0.2308, 0.7547],\n        [0.3496, 0.3059, 0.6652],\n        [0.1976, 0.8250, 0.0570],\n        [0.0504, 0.0061, 0.5362]])"
     },
     "execution_count": 3,
     "metadata": {},
     "output_type": "execute_result"
    }
   ],
   "source": [
    "# x와 동일한 형상, 데이터 타입의 행렬 생성\n",
    "y = torch.rand_like(x)\n",
    "y"
   ]
  },
  {
   "cell_type": "code",
   "execution_count": 4,
   "metadata": {},
   "outputs": [
    {
     "name": "stdout",
     "output_type": "stream",
     "text": "tensor([[1.3034, 1.5015, 0.2237],\n        [1.1584, 0.7540, 0.8119],\n        [0.5608, 0.9589, 1.6138],\n        [0.4645, 1.0349, 0.4290],\n        [0.3247, 0.1534, 0.9615]])\ntensor([[1.3034, 1.5015, 0.2237],\n        [1.1584, 0.7540, 0.8119],\n        [0.5608, 0.9589, 1.6138],\n        [0.4645, 1.0349, 0.4290],\n        [0.3247, 0.1534, 0.9615]])\n"
    }
   ],
   "source": [
    "# 행렬 덧셈\n",
    "print(x + y)\n",
    "# 또는\n",
    "print(torch.add(x, y))"
   ]
  },
  {
   "cell_type": "code",
   "execution_count": 5,
   "metadata": {},
   "outputs": [
    {
     "data": {
      "text/plain": "tensor([[1.3034, 1.5015, 0.2237],\n        [1.1584, 0.7540, 0.8119],\n        [0.5608, 0.9589, 1.6138],\n        [0.4645, 1.0349, 0.4290],\n        [0.3247, 0.1534, 0.9615]])"
     },
     "execution_count": 5,
     "metadata": {},
     "output_type": "execute_result"
    }
   ],
   "source": [
    "# x와 동일한 형상, 데이터 타입의 빈 행렬 생성\n",
    "result = torch.empty_like(x)\n",
    "\n",
    "# 덧셈 연산 후 결과를 out인자로 전달한 행렬에 할당할 수 있음\n",
    "torch.add(x, y, out=result)\n",
    "result"
   ]
  },
  {
   "cell_type": "code",
   "execution_count": 6,
   "metadata": {},
   "outputs": [
    {
     "name": "stdout",
     "output_type": "stream",
     "text": "Before: tensor([[0.9228, 0.8074, 0.2215],\n        [0.5803, 0.2308, 0.7547],\n        [0.3496, 0.3059, 0.6652],\n        [0.1976, 0.8250, 0.0570],\n        [0.0504, 0.0061, 0.5362]])\nAfter: tensor([[1.3034, 1.5015, 0.2237],\n        [1.1584, 0.7540, 0.8119],\n        [0.5608, 0.9589, 1.6138],\n        [0.4645, 1.0349, 0.4290],\n        [0.3247, 0.1534, 0.9615]])\n"
    }
   ],
   "source": [
    "# _가 붙어있는 연산 메소드를 사용할 경우 해당 행렬에 결과값을 덮어씌움\n",
    "print('Before:', y)\n",
    "y.add_(x)\n",
    "print('After:', y)"
   ]
  },
  {
   "cell_type": "code",
   "execution_count": 7,
   "metadata": {},
   "outputs": [
    {
     "data": {
      "text/plain": "tensor([1.5015, 0.7540, 0.9589, 1.0349, 0.1534])"
     },
     "execution_count": 7,
     "metadata": {},
     "output_type": "execute_result"
    }
   ],
   "source": [
    "# NumPy과 같이 인덱싱 문법 사용 가능\n",
    "y[:, 1]"
   ]
  },
  {
   "cell_type": "code",
   "execution_count": 8,
   "metadata": {},
   "outputs": [
    {
     "name": "stdout",
     "output_type": "stream",
     "text": "tensor([[-1.4100, -0.1865, -0.2013,  0.9194],\n        [ 0.5223,  0.4729,  1.5989, -0.0777],\n        [ 0.1883,  0.5872,  0.1124,  0.4956],\n        [ 0.3597,  0.4246,  2.2132, -0.4246]])\ntensor([-1.4100, -0.1865, -0.2013,  0.9194,  0.5223,  0.4729,  1.5989, -0.0777,\n         0.1883,  0.5872,  0.1124,  0.4956,  0.3597,  0.4246,  2.2132, -0.4246])\ntensor([[-1.4100, -0.1865, -0.2013,  0.9194,  0.5223,  0.4729,  1.5989, -0.0777],\n        [ 0.1883,  0.5872,  0.1124,  0.4956,  0.3597,  0.4246,  2.2132, -0.4246]])\n"
    }
   ],
   "source": [
    "# view()를 사용하여 형상을 변경할 수 있음\n",
    "x = torch.randn(4, 4)\n",
    "y = x.view(16)\n",
    "z = x.view(-1, 8)  # -1은 다른 차원들을 사용하여 유추\n",
    "print(x)\n",
    "print(y)\n",
    "print(z)"
   ]
  },
  {
   "cell_type": "code",
   "execution_count": 9,
   "metadata": {},
   "outputs": [
    {
     "name": "stdout",
     "output_type": "stream",
     "text": "1 1.0\n"
    }
   ],
   "source": [
    "# 하나의 값을 가진 텐서인 경우 item()을 사용하여 해당 텐서의 원시값을 가져올 수 있음\n",
    "tensor_1 = torch.tensor(1)\n",
    "tensor_2 = torch.tensor([1.0])\n",
    "print(tensor_1.item(), tensor_2.item())"
   ]
  },
  {
   "cell_type": "code",
   "execution_count": 10,
   "metadata": {},
   "outputs": [
    {
     "name": "stdout",
     "output_type": "stream",
     "text": "tensor([0.5202, 0.1438, 0.3899, 0.3450, 0.5122]) [0.5201863  0.1438387  0.3899411  0.34501237 0.5122069 ]\n"
    }
   ],
   "source": [
    "# numpy()를 호출하여 PyTorch의 텐서를 NumPy 배열로 변환할 수 있음\n",
    "n = torch.rand(5)\n",
    "print(n, n.numpy())"
   ]
  },
  {
   "cell_type": "code",
   "execution_count": 11,
   "metadata": {},
   "outputs": [
    {
     "data": {
      "text/plain": "tensor([0.0000, 0.1000, 0.2000, 0.3000, 0.4000, 0.5000, 0.6000, 0.7000, 0.8000,\n        0.9000, 1.0000, 1.1000, 1.2000, 1.3000, 1.4000, 1.5000, 1.6000, 1.7000,\n        1.8000, 1.9000, 2.0000, 2.1000, 2.2000, 2.3000, 2.4000, 2.5000, 2.6000,\n        2.7000, 2.8000, 2.9000, 3.0000, 3.1000, 3.2000, 3.3000, 3.4000, 3.5000,\n        3.6000, 3.7000, 3.8000, 3.9000, 4.0000, 4.1000, 4.2000, 4.3000, 4.4000,\n        4.5000, 4.6000, 4.7000, 4.8000, 4.9000, 5.0000, 5.1000, 5.2000, 5.3000,\n        5.4000, 5.5000, 5.6000, 5.7000, 5.8000, 5.9000, 6.0000, 6.1000, 6.2000,\n        6.3000, 6.4000, 6.5000, 6.6000, 6.7000, 6.8000, 6.9000, 7.0000, 7.1000,\n        7.2000, 7.3000, 7.4000, 7.5000, 7.6000, 7.7000, 7.8000, 7.9000, 8.0000,\n        8.1000, 8.2000, 8.3000, 8.4000, 8.5000, 8.6000, 8.7000, 8.8000, 8.9000,\n        9.0000, 9.1000, 9.2000, 9.3000, 9.4000, 9.5000, 9.6000, 9.7000, 9.8000,\n        9.9000], dtype=torch.float64)"
     },
     "execution_count": 11,
     "metadata": {},
     "output_type": "execute_result"
    }
   ],
   "source": [
    "# NumPy <---> PyTorch 변환 기능이 쉽고 간편하게 잘 구현되어있음\n",
    "# 넘파이 배열을 텐서로 변환\n",
    "n2 = torch.from_numpy(np.arange(0, 10, 0.1))\n",
    "n2"
   ]
  },
  {
   "cell_type": "code",
   "execution_count": 12,
   "metadata": {},
   "outputs": [
    {
     "name": "stdout",
     "output_type": "stream",
     "text": "tensor([4, 5, 6]) [4 5 6]\n"
    }
   ],
   "source": [
    "# * 주의 * NumPy 배열과 텐서는 동일한 메모리를 공유함\n",
    "# x, nx 모두 같은 값을 가짐\n",
    "x = torch.tensor([1, 2, 3])\n",
    "nx = x.numpy()\n",
    "x.add_(3)\n",
    "print(x, nx) # x에 3을 더했으나, nx의 값에도 3이 더해짐"
   ]
  }
 ]
}